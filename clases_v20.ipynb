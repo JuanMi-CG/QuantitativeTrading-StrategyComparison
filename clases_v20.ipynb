{
 "cells": [
  {
   "cell_type": "markdown",
   "id": "59e190ac",
   "metadata": {},
   "source": [
    "# Importaciones"
   ]
  },
  {
   "cell_type": "code",
   "execution_count": null,
   "id": "6884d697",
   "metadata": {},
   "outputs": [
    {
     "ename": "NameError",
     "evalue": "name 'Tuple' is not defined",
     "output_type": "error",
     "traceback": [
      "\u001b[1;31m---------------------------------------------------------------------------\u001b[0m",
      "\u001b[1;31mNameError\u001b[0m                                 Traceback (most recent call last)",
      "Cell \u001b[1;32mIn[2], line 2\u001b[0m\n\u001b[0;32m      1\u001b[0m \u001b[38;5;28;01mfrom\u001b[39;00m\u001b[38;5;250m \u001b[39m\u001b[38;5;21;01mtrading_environment\u001b[39;00m\u001b[38;5;250m \u001b[39m\u001b[38;5;28;01mimport\u001b[39;00m \u001b[38;5;241m*\u001b[39m\n\u001b[1;32m----> 2\u001b[0m \u001b[38;5;28;01mfrom\u001b[39;00m\u001b[38;5;250m \u001b[39m\u001b[38;5;21;01mstrategies\u001b[39;00m\u001b[38;5;250m \u001b[39m\u001b[38;5;28;01mimport\u001b[39;00m \u001b[38;5;241m*\u001b[39m\n",
      "File \u001b[1;32md:\\Desktop\\Algorithmic Trading\\Prueba\\strategies.py:159\u001b[0m\n\u001b[0;32m    154\u001b[0m         sig[long], sig[short] \u001b[38;5;241m=\u001b[39m \u001b[38;5;241m1\u001b[39m, \u001b[38;5;241m-\u001b[39m\u001b[38;5;241m1\u001b[39m\n\u001b[0;32m    155\u001b[0m         \u001b[38;5;28;01mreturn\u001b[39;00m sig\u001b[38;5;241m.\u001b[39mffill()\u001b[38;5;241m.\u001b[39mfillna(\u001b[38;5;241m0\u001b[39m)\n\u001b[1;32m--> 159\u001b[0m \u001b[38;5;28;01mclass\u001b[39;00m\u001b[38;5;250m \u001b[39m\u001b[38;5;21;01mPairTradingStrategy\u001b[39;00m(TradingStrategy):\n\u001b[0;32m    160\u001b[0m     \u001b[38;5;28;01mdef\u001b[39;00m\u001b[38;5;250m \u001b[39m\u001b[38;5;21m__init__\u001b[39m(\u001b[38;5;28mself\u001b[39m, pair: Tuple[\u001b[38;5;28mstr\u001b[39m,\u001b[38;5;28mstr\u001b[39m], window\u001b[38;5;241m=\u001b[39m\u001b[38;5;241m20\u001b[39m, entry_z\u001b[38;5;241m=\u001b[39m\u001b[38;5;241m2\u001b[39m, exit_z\u001b[38;5;241m=\u001b[39m\u001b[38;5;241m0\u001b[39m):\n\u001b[0;32m    161\u001b[0m         \u001b[38;5;28msuper\u001b[39m()\u001b[38;5;241m.\u001b[39m\u001b[38;5;21m__init__\u001b[39m(name\u001b[38;5;241m=\u001b[39m\u001b[38;5;124mf\u001b[39m\u001b[38;5;124m\"\u001b[39m\u001b[38;5;124mPair \u001b[39m\u001b[38;5;132;01m{\u001b[39;00mpair[\u001b[38;5;241m0\u001b[39m]\u001b[38;5;132;01m}\u001b[39;00m\u001b[38;5;124m/\u001b[39m\u001b[38;5;132;01m{\u001b[39;00mpair[\u001b[38;5;241m1\u001b[39m]\u001b[38;5;132;01m}\u001b[39;00m\u001b[38;5;124m\"\u001b[39m)\n",
      "File \u001b[1;32md:\\Desktop\\Algorithmic Trading\\Prueba\\strategies.py:160\u001b[0m, in \u001b[0;36mPairTradingStrategy\u001b[1;34m()\u001b[0m\n\u001b[0;32m    159\u001b[0m \u001b[38;5;28;01mclass\u001b[39;00m\u001b[38;5;250m \u001b[39m\u001b[38;5;21;01mPairTradingStrategy\u001b[39;00m(TradingStrategy):\n\u001b[1;32m--> 160\u001b[0m     \u001b[38;5;28;01mdef\u001b[39;00m\u001b[38;5;250m \u001b[39m\u001b[38;5;21m__init__\u001b[39m(\u001b[38;5;28mself\u001b[39m, pair: \u001b[43mTuple\u001b[49m[\u001b[38;5;28mstr\u001b[39m,\u001b[38;5;28mstr\u001b[39m], window\u001b[38;5;241m=\u001b[39m\u001b[38;5;241m20\u001b[39m, entry_z\u001b[38;5;241m=\u001b[39m\u001b[38;5;241m2\u001b[39m, exit_z\u001b[38;5;241m=\u001b[39m\u001b[38;5;241m0\u001b[39m):\n\u001b[0;32m    161\u001b[0m         \u001b[38;5;28msuper\u001b[39m()\u001b[38;5;241m.\u001b[39m\u001b[38;5;21m__init__\u001b[39m(name\u001b[38;5;241m=\u001b[39m\u001b[38;5;124mf\u001b[39m\u001b[38;5;124m\"\u001b[39m\u001b[38;5;124mPair \u001b[39m\u001b[38;5;132;01m{\u001b[39;00mpair[\u001b[38;5;241m0\u001b[39m]\u001b[38;5;132;01m}\u001b[39;00m\u001b[38;5;124m/\u001b[39m\u001b[38;5;132;01m{\u001b[39;00mpair[\u001b[38;5;241m1\u001b[39m]\u001b[38;5;132;01m}\u001b[39;00m\u001b[38;5;124m\"\u001b[39m)\n\u001b[0;32m    162\u001b[0m         \u001b[38;5;28mself\u001b[39m\u001b[38;5;241m.\u001b[39ms1, \u001b[38;5;28mself\u001b[39m\u001b[38;5;241m.\u001b[39ms2 \u001b[38;5;241m=\u001b[39m pair\n",
      "\u001b[1;31mNameError\u001b[0m: name 'Tuple' is not defined"
     ]
    }
   ],
   "source": [
    "from imports import *\n",
    "from trading_environment import *\n",
    "from strategies import *"
   ]
  },
  {
   "cell_type": "markdown",
   "id": "3ee1450e",
   "metadata": {},
   "source": [
    "# Strategies"
   ]
  },
  {
   "cell_type": "code",
   "execution_count": null,
   "id": "be5577a6",
   "metadata": {},
   "outputs": [],
   "source": [
    "# 1) Definimos dos grids de parámetros:\n",
    "dca_grid = {\n",
    "    'amount': [500, 1000, 2000],\n",
    "    'freq':   ['W', 'M', 'D']\n",
    "}\n",
    "\n",
    "ma_grid = {\n",
    "    'long_window':  [50, 100, 200],\n",
    "    'short_window': [5, 20, 50]\n",
    "}\n",
    "\n",
    "# 2) Creamos dos colecciones, una para cada tipo de estrategia\n",
    "#    -> no cambia: __init__ sigue aceptando (strategy_cls, param_grid)\n",
    "dca_collection = StrategyCollection(DcaStrategy, dca_grid)\n",
    "ma_collection  = StrategyCollection(MovingAverageCrossStrategy, ma_grid)\n",
    "\n",
    "print(f\"DCA strategies: {dca_collection.names()}\")\n",
    "print(f\"MA  strategies: {ma_collection.names()}\")\n",
    "\n",
    "# 3) Ejecutamos backtests de todas las estrategias\n",
    "symbol = 'BTC-USD'\n",
    "common_kwargs = {\n",
    "    'period':           '2y',\n",
    "    'interval':         '1d',\n",
    "    'initial_capital':  5000.0,\n",
    "    'transaction_cost': 0.001,\n",
    "}\n",
    "\n",
    "# Backtest DCA (sin stop loss ni RiskManager)\n",
    "equity_dca = dca_collection.backtest_all(\n",
    "    symbol=symbol,\n",
    "    **common_kwargs\n",
    ")\n",
    "\n",
    "# Backtest MA (con percent risk manager y stop-loss a 20000)\n",
    "rm = RiskManager(method='pct', risk_pct=0.02)\n",
    "equity_ma = ma_collection.backtest_all(\n",
    "    symbol=symbol,\n",
    "    **common_kwargs,\n",
    "    risk_manager=rm,\n",
    "    stop_loss=20000\n",
    ")\n",
    "\n",
    "# 4) Guardamos todas las estrategias en disco\n",
    "strat_mgr = StrategyManager(directory=STRAT_DIR)\n",
    "dca_collection.save_all(strat_mgr)\n",
    "ma_collection.save_all(strat_mgr)\n",
    "\n",
    "# 5) —> AHORA: Usamos el nuevo ReportManager.summarize() en lugar de compare_performance()\n",
    "#    Ya no necesitamos recolectar y print/save por separado, todo lo maneja summarize()\n",
    "\n",
    "# Recolectamos analyzers (igual que antes)\n",
    "analyzers = {}\n",
    "for name, eq in equity_dca.items():\n",
    "    strat = dca_collection.strategies[name]\n",
    "    analyzers[name] = PerformanceAnalyzer(eq, strat.returns)\n",
    "\n",
    "for name, eq in equity_ma.items():\n",
    "    strat = ma_collection.strategies[name]\n",
    "    analyzers[name] = PerformanceAnalyzer(eq, strat.returns)\n",
    "\n",
    "# Generamos y guardamos un informe comparativo\n",
    "rep_mgr = ReportManager(directory=REPORT_DIR)\n",
    "\n",
    "# ----> aquí el cambio clave:\n",
    "perf_df = rep_mgr.summarize(\n",
    "    analyzers,           # puede ser dict de PerformanceAnalyzer\n",
    "    save=True,           # guarda comparación a CSV\n",
    "    do_print=True        # imprime por consola\n",
    ")\n",
    "\n",
    "# Y luego podemos seguir usando los plots\n",
    "rep_mgr.plot_metrics(perf_df)\n",
    "rep_mgr.plot_equity_curves({**equity_dca, **equity_ma})\n"
   ]
  },
  {
   "cell_type": "markdown",
   "id": "8e179ed2",
   "metadata": {},
   "source": [
    "# FIN"
   ]
  }
 ],
 "metadata": {
  "kernelspec": {
   "display_name": "venv310",
   "language": "python",
   "name": "python3"
  },
  "language_info": {
   "codemirror_mode": {
    "name": "ipython",
    "version": 3
   },
   "file_extension": ".py",
   "mimetype": "text/x-python",
   "name": "python",
   "nbconvert_exporter": "python",
   "pygments_lexer": "ipython3",
   "version": "3.10.11"
  }
 },
 "nbformat": 4,
 "nbformat_minor": 5
}
