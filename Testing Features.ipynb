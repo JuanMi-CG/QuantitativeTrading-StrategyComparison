{
 "cells": [
  {
   "cell_type": "markdown",
   "id": "59e190ac",
   "metadata": {},
   "source": [
    "# Importaciones"
   ]
  },
  {
   "cell_type": "code",
   "execution_count": null,
   "id": "6884d697",
   "metadata": {},
   "outputs": [
    {
     "ename": "ImportError",
     "evalue": "attempted relative import with no known parent package",
     "output_type": "error",
     "traceback": [
      "\u001b[1;31m---------------------------------------------------------------------------\u001b[0m",
      "\u001b[1;31mImportError\u001b[0m                               Traceback (most recent call last)",
      "Cell \u001b[1;32mIn[2], line 9\u001b[0m\n\u001b[0;32m      6\u001b[0m \u001b[38;5;28;01mfrom\u001b[39;00m\u001b[38;5;250m \u001b[39m\u001b[38;5;21;01moptuna\u001b[39;00m\u001b[38;5;21;01m.\u001b[39;00m\u001b[38;5;21;01mlogging\u001b[39;00m\u001b[38;5;250m \u001b[39m\u001b[38;5;28;01mimport\u001b[39;00m set_verbosity, ERROR\n\u001b[0;32m      7\u001b[0m \u001b[38;5;28;01mimport\u001b[39;00m\u001b[38;5;250m \u001b[39m\u001b[38;5;21;01mnumpy\u001b[39;00m\u001b[38;5;250m \u001b[39m\u001b[38;5;28;01mas\u001b[39;00m\u001b[38;5;250m \u001b[39m\u001b[38;5;21;01mnp\u001b[39;00m\n\u001b[1;32m----> 9\u001b[0m \u001b[38;5;28;01mfrom\u001b[39;00m\u001b[38;5;250m \u001b[39m\u001b[38;5;21;01m.\u001b[39;00m\u001b[38;5;21;01m.\u001b[39;00m\u001b[38;5;21;01mtrading_environment\u001b[39;00m\u001b[38;5;250m \u001b[39m\u001b[38;5;28;01mimport\u001b[39;00m (\n\u001b[0;32m     10\u001b[0m     DataManager, RiskManager, PerformanceAnalyzer, Optimizer,\n\u001b[0;32m     11\u001b[0m     ReportManager, TradingSystem, StrategyManager, StrategyCollection,\n\u001b[0;32m     12\u001b[0m     DATA_DIR, MAX_FILE_SIZE\n\u001b[0;32m     13\u001b[0m )\n\u001b[0;32m     14\u001b[0m \u001b[38;5;28;01mfrom\u001b[39;00m\u001b[38;5;250m \u001b[39m\u001b[38;5;21;01m.\u001b[39;00m\u001b[38;5;21;01m.\u001b[39;00m\u001b[38;5;21;01mstrategies\u001b[39;00m\u001b[38;5;250m \u001b[39m\u001b[38;5;28;01mimport\u001b[39;00m (\n\u001b[0;32m     15\u001b[0m     MovingAverageCrossStrategy, DcaStrategy, DonchianBreakoutStrategy,\n\u001b[0;32m     16\u001b[0m     ADXTrendStrategy, ROCStrategy, MACDStrategy, BollingerMeanRevStrategy,\n\u001b[0;32m     17\u001b[0m     RSIStrategy, PairTradingStrategy, VWAPStrategy\n\u001b[0;32m     18\u001b[0m )\n",
      "\u001b[1;31mImportError\u001b[0m: attempted relative import with no known parent package"
     ]
    }
   ],
   "source": [
    "\"\"\"\n",
    "Full demo script exercising all components of the Trading Environment repo.\n",
    "\"\"\"\n",
    "import logging\n",
    "import optuna\n",
    "from optuna.logging import set_verbosity, ERROR\n",
    "import numpy as np\n",
    "\n",
    "from trading_environment import (\n",
    "    DataManager, RiskManager, PerformanceAnalyzer, Optimizer,\n",
    "    ReportManager, TradingSystem, StrategyManager, StrategyCollection,\n",
    "    DATA_DIR, MAX_FILE_SIZE\n",
    ")\n",
    "from strategies import (\n",
    "    MovingAverageCrossStrategy, DcaStrategy, DonchianBreakoutStrategy,\n",
    "    ADXTrendStrategy, ROCStrategy, MACDStrategy, BollingerMeanRevStrategy,\n",
    "    RSIStrategy, PairTradingStrategy, VWAPStrategy\n",
    ")"
   ]
  },
  {
   "cell_type": "markdown",
   "id": "3ee1450e",
   "metadata": {},
   "source": [
    "# Tests"
   ]
  },
  {
   "cell_type": "code",
   "execution_count": null,
   "id": "531e210f",
   "metadata": {},
   "outputs": [],
   "source": [
    "# Suppress less important logs\n",
    "logging.getLogger().setLevel(logging.ERROR)  # hide WARNING and INFO logs\n",
    "set_verbosity(ERROR)  # hide Optuna warnings"
   ]
  },
  {
   "cell_type": "code",
   "execution_count": null,
   "id": "b4cf9df3",
   "metadata": {},
   "outputs": [],
   "source": [
    "# 1) Load data\n",
    "dm = DataManager(DATA_DIR, MAX_FILE_SIZE)\n",
    "data = dm.load_data(symbols='BTC-USD', period='2y', interval='1d')\n",
    "print(\"Data loaded shape:\", data.shape)"
   ]
  },
  {
   "cell_type": "code",
   "execution_count": null,
   "id": "49547949",
   "metadata": {},
   "outputs": [],
   "source": [
    "# 2) RiskManager Demo\n",
    "price = data['close'].iloc[-1]\n",
    "rm_pct = RiskManager(method='pct', risk_pct=0.02)\n",
    "print(\"Pct size:\", rm_pct.calculate_size(10000, price, data))\n",
    "rm_atr = RiskManager(method='atr', risk_pct=0.01, atr_window=14)\n",
    "print(\"ATR size:\", rm_atr.calculate_size(10000, price, data, stop_loss=price*0.95))"
   ]
  },
  {
   "cell_type": "code",
   "execution_count": null,
   "id": "be5577a6",
   "metadata": {},
   "outputs": [],
   "source": [
    "# 3) Strategy Demo\n",
    "strat = MovingAverageCrossStrategy({'short_window':10, 'long_window':20})\n",
    "sig = strat.generate_signals(data)\n",
    "print(\"Signal counts:\", sig.value_counts().to_dict())\n",
    "eq = strat.backtest(data, initial_capital=10000, transaction_cost=0.001)\n",
    "pa = PerformanceAnalyzer(eq, strat.returns)\n",
    "print(\"MA Crossover Performance:\\n\", pa.summary())"
   ]
  },
  {
   "cell_type": "code",
   "execution_count": null,
   "id": "3a11a3df",
   "metadata": {},
   "outputs": [],
   "source": [
    "# 4) Optimizer Demo (Grid, Bayes, DE)\n",
    "print(\"\\n=== Optimizer Demo ===\")\n",
    "subset = [MovingAverageCrossStrategy, MACDStrategy]\n",
    "# Grid Search\n",
    "print(\"-- Grid Search --\")\n",
    "best_strat_g, best_params_g, perf_g, eq_g = Optimizer.find_best_strategy(\n",
    "    subset, data, method='grid', metric='Sharpe'\n",
    ")\n",
    "print(f\"Grid best: {best_strat_g.name} {best_params_g}\")\n",
    "# Bayesian Search\n",
    "print(\"-- Bayesian Search --\")\n",
    "best_strat_b, best_params_b, perf_b, eq_b = Optimizer.find_best_strategy(\n",
    "    subset, data, method='bayes', metric='Sharpe', n_trials=10, seed=123\n",
    ")\n",
    "print(f\"Bayes best: {best_strat_b.name} {best_params_b}\")\n",
    "# Differential Evolution\n",
    "print(\"-- DE Search --\")\n",
    "best_strat_d, best_params_d, perf_d, eq_d = Optimizer.find_best_strategy(\n",
    "    subset, data, method='de', metric='Sharpe', maxiter=5, popsize=5\n",
    ")\n",
    "print(f\"DE best: {best_strat_d.name} {best_params_d}\")"
   ]
  },
  {
   "cell_type": "code",
   "execution_count": null,
   "id": "6b6633c7",
   "metadata": {},
   "outputs": [],
   "source": [
    "# 5) ReportManager plotting & saving\n",
    "rm = ReportManager()\n",
    "print(\"Plotting metrics for Grid best...\")\n",
    "rm.plot_metrics(perf_g)\n",
    "\n",
    "# --- FIX: extract the single Series for each best equity curve ---\n",
    "eq_series_g = eq_g[best_strat_g.name]\n",
    "eq_series_b = eq_b[best_strat_b.name]\n",
    "eq_series_d = eq_d[best_strat_d.name]\n",
    "\n",
    "print(\"Overlaying equity curves...\")\n",
    "rm.plot_equity_curves({\n",
    "    'Grid (best)':  eq_series_g,\n",
    "    'Bayes (best)': eq_series_b,\n",
    "    'DE (best)':    eq_series_d\n",
    "})\n",
    "\n",
    "# Compare and save\n",
    "returns_g = eq_series_g.pct_change().fillna(0)\n",
    "returns_b = eq_series_b.pct_change().fillna(0)\n",
    "returns_d = eq_series_d.pct_change().fillna(0)\n",
    "\n",
    "analyzers = {\n",
    "    'Grid':  PerformanceAnalyzer(eq_series_g, returns_g),\n",
    "    'Bayes': PerformanceAnalyzer(eq_series_b, returns_b),\n",
    "    'DE':    PerformanceAnalyzer(eq_series_d, returns_d)\n",
    "}\n",
    "\n",
    "comp = rm.compare_performance(\n",
    "    analyzers,\n",
    "    save=True,\n",
    "    report_name='full_demo_comparison'\n",
    ")\n",
    "print(comp)"
   ]
  },
  {
   "cell_type": "code",
   "execution_count": null,
   "id": "bc191db7",
   "metadata": {},
   "outputs": [],
   "source": [
    "# 6) TradingSystem Demo\n",
    "print(\"\\n=== TradingSystem Demo ===\")\n",
    "ts = TradingSystem('BTC-USD', DcaStrategy({'amount':500,'freq':'D'}), risk_manager=RiskManager('fixed', fixed_size=1))\n",
    "ts.load(period='1mo', interval='1d')\n",
    "eq_ts = ts.run_backtest(save_report=True, do_print=True, report_name='ts_demo')\n",
    "print(f\"Final TS equity: {eq_ts.iloc[-1]:.2f}\")"
   ]
  },
  {
   "cell_type": "code",
   "execution_count": null,
   "id": "e51e068c",
   "metadata": {},
   "outputs": [],
   "source": [
    "# 7) StrategyCollection Demo\n",
    "grid_params = {'short_window': [5,10], 'long_window': [20,50]}\n",
    "collection = StrategyCollection(strategy_cls=MovingAverageCrossStrategy, param_grid=grid_params)\n",
    "eqs = collection.backtest_all('BTC-USD', period='1mo', interval='1d')\n",
    "print(\"Collection demos backtested strategies:\", list(eqs.keys()))"
   ]
  },
  {
   "cell_type": "code",
   "execution_count": null,
   "id": "600af941",
   "metadata": {},
   "outputs": [],
   "source": [
    "\n",
    "# 8) StrategyManager Demo\n",
    "sm = StrategyManager()\n",
    "strat_sample = MACDStrategy({'fast':12,'slow':26,'signal':9})\n",
    "sm.save(strat_sample)\n",
    "loaded = sm.load(strat_sample.name)\n",
    "print(\"Loaded sample strategy:\", loaded.name)\n"
   ]
  },
  {
   "cell_type": "markdown",
   "id": "8e179ed2",
   "metadata": {},
   "source": [
    "# END"
   ]
  }
 ],
 "metadata": {
  "kernelspec": {
   "display_name": "venv310",
   "language": "python",
   "name": "python3"
  },
  "language_info": {
   "codemirror_mode": {
    "name": "ipython",
    "version": 3
   },
   "file_extension": ".py",
   "mimetype": "text/x-python",
   "name": "python",
   "nbconvert_exporter": "python",
   "pygments_lexer": "ipython3",
   "version": "3.10.11"
  }
 },
 "nbformat": 4,
 "nbformat_minor": 5
}
