{
 "cells": [
  {
   "cell_type": "markdown",
   "id": "59e190ac",
   "metadata": {},
   "source": [
    "# Importaciones"
   ]
  },
  {
   "cell_type": "code",
   "execution_count": 1,
   "id": "6884d697",
   "metadata": {},
   "outputs": [],
   "source": [
    "from imports import *                    # pandas, numpy, etc.\n",
    "from trading_environment import (\n",
    "    DataManager,\n",
    "    Optimizer,\n",
    "    PerformanceAnalyzer,\n",
    "    ReportManager,\n",
    "    RiskManager,\n",
    "    DATA_DIR,\n",
    "    MAX_FILE_SIZE,\n",
    "    REPORT_DIR\n",
    ")\n",
    "from strategies import (\n",
    "    MovingAverageCrossStrategy,\n",
    "    DcaStrategy,\n",
    "    DonchianBreakoutStrategy,\n",
    "    ADXTrendStrategy,\n",
    "    ROCStrategy,\n",
    "    MACDStrategy,\n",
    "    BollingerMeanRevStrategy,\n",
    "    RSIStrategy,\n",
    "    PairTradingStrategy,\n",
    "    VWAPStrategy\n",
    ")"
   ]
  },
  {
   "cell_type": "markdown",
   "id": "3ee1450e",
   "metadata": {},
   "source": [
    "# Strategies"
   ]
  },
  {
   "cell_type": "code",
   "execution_count": 2,
   "id": "49547949",
   "metadata": {},
   "outputs": [
    {
     "name": "stderr",
     "output_type": "stream",
     "text": [
      "2025-06-26 14:41:10,657 - INFO - Cargados 731 registros de caché (1 archivos)\n"
     ]
    }
   ],
   "source": [
    "# 1) Load data\n",
    "dm = DataManager(data_dir=DATA_DIR, max_file_size=MAX_FILE_SIZE)\n",
    "data = dm.load_data(\n",
    "    symbols='BTC-USD',\n",
    "    period='2y',\n",
    "    interval='1d'\n",
    ")"
   ]
  },
  {
   "cell_type": "code",
   "execution_count": 3,
   "id": "be5577a6",
   "metadata": {},
   "outputs": [
    {
     "name": "stderr",
     "output_type": "stream",
     "text": [
      "[I 2025-06-26 14:41:10,666] A new study created in memory with name: no-name-4eb4a87c-104d-4a20-a0f2-860cfc23c049\n",
      "[W 2025-06-26 14:41:10,672] Trial 0 failed with parameters: {'short_window': 40, 'long_window': 200} because of the following error: The value nan is not acceptable.\n",
      "[W 2025-06-26 14:41:10,673] Trial 0 failed with value nan.\n",
      "[W 2025-06-26 14:41:10,680] Trial 1 failed with parameters: {'short_window': 75, 'long_window': 130} because of the following error: The value nan is not acceptable.\n",
      "[W 2025-06-26 14:41:10,681] Trial 1 failed with value nan.\n",
      "[W 2025-06-26 14:41:10,686] Trial 2 failed with parameters: {'short_window': 20, 'long_window': 40} because of the following error: The value nan is not acceptable.\n",
      "[W 2025-06-26 14:41:10,686] Trial 2 failed with value nan.\n",
      "[W 2025-06-26 14:41:10,691] Trial 3 failed with parameters: {'short_window': 10, 'long_window': 180} because of the following error: The value nan is not acceptable.\n",
      "[W 2025-06-26 14:41:10,692] Trial 3 failed with value nan.\n",
      "[W 2025-06-26 14:41:10,697] Trial 4 failed with parameters: {'short_window': 65, 'long_window': 150} because of the following error: The value nan is not acceptable.\n",
      "[W 2025-06-26 14:41:10,698] Trial 4 failed with value nan.\n",
      "[W 2025-06-26 14:41:10,703] Trial 5 failed with parameters: {'short_window': 5, 'long_window': 200} because of the following error: The value nan is not acceptable.\n",
      "[W 2025-06-26 14:41:10,703] Trial 5 failed with value nan.\n",
      "[W 2025-06-26 14:41:10,704] Trial 6 failed with parameters: {'short_window': 85, 'long_window': 60} because of the following error: The value nan is not acceptable.\n",
      "[W 2025-06-26 14:41:10,704] Trial 6 failed with value nan.\n",
      "[W 2025-06-26 14:41:10,709] Trial 7 failed with parameters: {'short_window': 20, 'long_window': 50} because of the following error: The value nan is not acceptable.\n",
      "[W 2025-06-26 14:41:10,710] Trial 7 failed with value nan.\n",
      "[W 2025-06-26 14:41:10,715] Trial 8 failed with parameters: {'short_window': 35, 'long_window': 110} because of the following error: The value nan is not acceptable.\n",
      "[W 2025-06-26 14:41:10,715] Trial 8 failed with value nan.\n",
      "[W 2025-06-26 14:41:10,720] Trial 9 failed with parameters: {'short_window': 45, 'long_window': 70} because of the following error: The value nan is not acceptable.\n",
      "[W 2025-06-26 14:41:10,721] Trial 9 failed with value nan.\n",
      "[W 2025-06-26 14:41:10,721] Trial 10 failed with parameters: {'short_window': 65, 'long_window': 40} because of the following error: The value nan is not acceptable.\n",
      "[W 2025-06-26 14:41:10,722] Trial 10 failed with value nan.\n",
      "[W 2025-06-26 14:41:10,729] Trial 11 failed with parameters: {'short_window': 30, 'long_window': 80} because of the following error: The value nan is not acceptable.\n",
      "[W 2025-06-26 14:41:10,729] Trial 11 failed with value nan.\n",
      "[W 2025-06-26 14:41:10,734] Trial 12 failed with parameters: {'short_window': 50, 'long_window': 160} because of the following error: The value nan is not acceptable.\n",
      "[W 2025-06-26 14:41:10,734] Trial 12 failed with value nan.\n",
      "[W 2025-06-26 14:41:10,739] Trial 13 failed with parameters: {'short_window': 20, 'long_window': 110} because of the following error: The value nan is not acceptable.\n",
      "[W 2025-06-26 14:41:10,739] Trial 13 failed with value nan.\n",
      "[W 2025-06-26 14:41:10,740] Trial 14 failed with parameters: {'short_window': 60, 'long_window': 20} because of the following error: The value nan is not acceptable.\n",
      "[W 2025-06-26 14:41:10,741] Trial 14 failed with value nan.\n",
      "[W 2025-06-26 14:41:10,741] Trial 15 failed with parameters: {'short_window': 65, 'long_window': 50} because of the following error: The value nan is not acceptable.\n",
      "[W 2025-06-26 14:41:10,742] Trial 15 failed with value nan.\n",
      "[W 2025-06-26 14:41:10,747] Trial 16 failed with parameters: {'short_window': 10, 'long_window': 200} because of the following error: The value nan is not acceptable.\n",
      "[W 2025-06-26 14:41:10,747] Trial 16 failed with value nan.\n",
      "[W 2025-06-26 14:41:10,752] Trial 17 failed with parameters: {'short_window': 100, 'long_window': 170} because of the following error: The value nan is not acceptable.\n",
      "[W 2025-06-26 14:41:10,752] Trial 17 failed with value nan.\n",
      "[W 2025-06-26 14:41:10,752] Trial 18 failed with parameters: {'short_window': 35, 'long_window': 30} because of the following error: The value nan is not acceptable.\n",
      "[W 2025-06-26 14:41:10,752] Trial 18 failed with value nan.\n",
      "[W 2025-06-26 14:41:10,760] Trial 19 failed with parameters: {'short_window': 70, 'long_window': 100} because of the following error: The value nan is not acceptable.\n",
      "[W 2025-06-26 14:41:10,761] Trial 19 failed with value nan.\n",
      "[W 2025-06-26 14:41:10,766] Trial 20 failed with parameters: {'short_window': 15, 'long_window': 110} because of the following error: The value nan is not acceptable.\n",
      "[W 2025-06-26 14:41:10,766] Trial 20 failed with value nan.\n",
      "[W 2025-06-26 14:41:10,771] Trial 21 failed with parameters: {'short_window': 5, 'long_window': 190} because of the following error: The value nan is not acceptable.\n",
      "[W 2025-06-26 14:41:10,772] Trial 21 failed with value nan.\n",
      "[W 2025-06-26 14:41:10,777] Trial 22 failed with parameters: {'short_window': 30, 'long_window': 140} because of the following error: The value nan is not acceptable.\n",
      "[W 2025-06-26 14:41:10,777] Trial 22 failed with value nan.\n",
      "[W 2025-06-26 14:41:10,782] Trial 23 failed with parameters: {'short_window': 35, 'long_window': 110} because of the following error: The value nan is not acceptable.\n",
      "[W 2025-06-26 14:41:10,783] Trial 23 failed with value nan.\n",
      "[W 2025-06-26 14:41:10,783] Trial 24 failed with parameters: {'short_window': 55, 'long_window': 50} because of the following error: The value nan is not acceptable.\n",
      "[W 2025-06-26 14:41:10,784] Trial 24 failed with value nan.\n",
      "[W 2025-06-26 14:41:10,788] Trial 25 failed with parameters: {'short_window': 100, 'long_window': 160} because of the following error: The value nan is not acceptable.\n",
      "[W 2025-06-26 14:41:10,789] Trial 25 failed with value nan.\n",
      "[W 2025-06-26 14:41:10,796] Trial 26 failed with parameters: {'short_window': 95, 'long_window': 190} because of the following error: The value nan is not acceptable.\n",
      "[W 2025-06-26 14:41:10,797] Trial 26 failed with value nan.\n",
      "[W 2025-06-26 14:41:10,804] Trial 27 failed with parameters: {'short_window': 60, 'long_window': 190} because of the following error: The value nan is not acceptable.\n",
      "[W 2025-06-26 14:41:10,805] Trial 27 failed with value nan.\n",
      "[W 2025-06-26 14:41:10,815] Trial 28 failed with parameters: {'short_window': 10, 'long_window': 50} because of the following error: The value nan is not acceptable.\n",
      "[W 2025-06-26 14:41:10,816] Trial 28 failed with value nan.\n",
      "[W 2025-06-26 14:41:10,824] Trial 29 failed with parameters: {'short_window': 5, 'long_window': 80} because of the following error: The value nan is not acceptable.\n",
      "[W 2025-06-26 14:41:10,825] Trial 29 failed with value nan.\n",
      "[W 2025-06-26 14:41:10,831] Trial 30 failed with parameters: {'short_window': 40, 'long_window': 70} because of the following error: The value nan is not acceptable.\n",
      "[W 2025-06-26 14:41:10,832] Trial 30 failed with value nan.\n",
      "[W 2025-06-26 14:41:10,833] Trial 31 failed with parameters: {'short_window': 85, 'long_window': 80} because of the following error: The value nan is not acceptable.\n",
      "[W 2025-06-26 14:41:10,834] Trial 31 failed with value nan.\n",
      "[W 2025-06-26 14:41:10,841] Trial 32 failed with parameters: {'short_window': 30, 'long_window': 120} because of the following error: The value nan is not acceptable.\n",
      "[W 2025-06-26 14:41:10,842] Trial 32 failed with value nan.\n",
      "[W 2025-06-26 14:41:10,847] Trial 33 failed with parameters: {'short_window': 15, 'long_window': 170} because of the following error: The value nan is not acceptable.\n",
      "[W 2025-06-26 14:41:10,847] Trial 33 failed with value nan.\n",
      "[W 2025-06-26 14:41:10,852] Trial 34 failed with parameters: {'short_window': 10, 'long_window': 200} because of the following error: The value nan is not acceptable.\n",
      "[W 2025-06-26 14:41:10,853] Trial 34 failed with value nan.\n",
      "[W 2025-06-26 14:41:10,853] Trial 35 failed with parameters: {'short_window': 80, 'long_window': 50} because of the following error: The value nan is not acceptable.\n",
      "[W 2025-06-26 14:41:10,854] Trial 35 failed with value nan.\n",
      "[W 2025-06-26 14:41:10,860] Trial 36 failed with parameters: {'short_window': 5, 'long_window': 170} because of the following error: The value nan is not acceptable.\n",
      "[W 2025-06-26 14:41:10,860] Trial 36 failed with value nan.\n",
      "[W 2025-06-26 14:41:10,867] Trial 37 failed with parameters: {'short_window': 75, 'long_window': 150} because of the following error: The value nan is not acceptable.\n",
      "[W 2025-06-26 14:41:10,867] Trial 37 failed with value nan.\n",
      "[W 2025-06-26 14:41:10,868] Trial 38 failed with parameters: {'short_window': 80, 'long_window': 30} because of the following error: The value nan is not acceptable.\n",
      "[W 2025-06-26 14:41:10,868] Trial 38 failed with value nan.\n",
      "[W 2025-06-26 14:41:10,869] Trial 39 failed with parameters: {'short_window': 40, 'long_window': 40} because of the following error: The value nan is not acceptable.\n",
      "[W 2025-06-26 14:41:10,869] Trial 39 failed with value nan.\n",
      "[W 2025-06-26 14:41:10,874] Trial 40 failed with parameters: {'short_window': 90, 'long_window': 130} because of the following error: The value nan is not acceptable.\n",
      "[W 2025-06-26 14:41:10,875] Trial 40 failed with value nan.\n",
      "[W 2025-06-26 14:41:10,876] Trial 41 failed with parameters: {'short_window': 35, 'long_window': 30} because of the following error: The value nan is not acceptable.\n",
      "[W 2025-06-26 14:41:10,877] Trial 41 failed with value nan.\n",
      "[W 2025-06-26 14:41:10,882] Trial 42 failed with parameters: {'short_window': 35, 'long_window': 80} because of the following error: The value nan is not acceptable.\n",
      "[W 2025-06-26 14:41:10,882] Trial 42 failed with value nan.\n",
      "[W 2025-06-26 14:41:10,886] Trial 43 failed with parameters: {'short_window': 75, 'long_window': 140} because of the following error: The value nan is not acceptable.\n",
      "[W 2025-06-26 14:41:10,887] Trial 43 failed with value nan.\n",
      "[W 2025-06-26 14:41:10,892] Trial 44 failed with parameters: {'short_window': 90, 'long_window': 100} because of the following error: The value nan is not acceptable.\n",
      "[W 2025-06-26 14:41:10,893] Trial 44 failed with value nan.\n",
      "[W 2025-06-26 14:41:10,900] Trial 45 failed with parameters: {'short_window': 15, 'long_window': 150} because of the following error: The value nan is not acceptable.\n",
      "[W 2025-06-26 14:41:10,901] Trial 45 failed with value nan.\n",
      "[W 2025-06-26 14:41:10,907] Trial 46 failed with parameters: {'short_window': 80, 'long_window': 120} because of the following error: The value nan is not acceptable.\n",
      "[W 2025-06-26 14:41:10,908] Trial 46 failed with value nan.\n",
      "[W 2025-06-26 14:41:10,914] Trial 47 failed with parameters: {'short_window': 80, 'long_window': 110} because of the following error: The value nan is not acceptable.\n",
      "[W 2025-06-26 14:41:10,915] Trial 47 failed with value nan.\n",
      "[W 2025-06-26 14:41:10,920] Trial 48 failed with parameters: {'short_window': 55, 'long_window': 100} because of the following error: The value nan is not acceptable.\n",
      "[W 2025-06-26 14:41:10,920] Trial 48 failed with value nan.\n",
      "[W 2025-06-26 14:41:10,926] Trial 49 failed with parameters: {'short_window': 5, 'long_window': 40} because of the following error: The value nan is not acceptable.\n",
      "[W 2025-06-26 14:41:10,926] Trial 49 failed with value nan.\n"
     ]
    },
    {
     "ename": "ValueError",
     "evalue": "No trials are completed yet.",
     "output_type": "error",
     "traceback": [
      "\u001b[31m---------------------------------------------------------------------------\u001b[39m",
      "\u001b[31mValueError\u001b[39m                                Traceback (most recent call last)",
      "\u001b[36mCell\u001b[39m\u001b[36m \u001b[39m\u001b[32mIn[3]\u001b[39m\u001b[32m, line 8\u001b[39m\n\u001b[32m      1\u001b[39m strategies = [\n\u001b[32m      2\u001b[39m     MovingAverageCrossStrategy, DcaStrategy, DonchianBreakoutStrategy,\n\u001b[32m      3\u001b[39m     ADXTrendStrategy, ROCStrategy, MACDStrategy, BollingerMeanRevStrategy,\n\u001b[32m      4\u001b[39m     RSIStrategy, PairTradingStrategy, VWAPStrategy\n\u001b[32m      5\u001b[39m ]\n\u001b[32m      7\u001b[39m \u001b[38;5;66;03m# run Bayesian optimisation on each and pick the best overall by Sharpe:\u001b[39;00m\n\u001b[32m----> \u001b[39m\u001b[32m8\u001b[39m best_strategy, best_params, summary_df = \u001b[43mOptimizer\u001b[49m\u001b[43m.\u001b[49m\u001b[43mfind_best_strategy\u001b[49m\u001b[43m(\u001b[49m\n\u001b[32m      9\u001b[39m \u001b[43m    \u001b[49m\u001b[43mstrategies\u001b[49m\u001b[43m,\u001b[49m\n\u001b[32m     10\u001b[39m \u001b[43m    \u001b[49m\u001b[43mdata\u001b[49m\u001b[43m,\u001b[49m\n\u001b[32m     11\u001b[39m \u001b[43m    \u001b[49m\u001b[43mmethod\u001b[49m\u001b[43m=\u001b[49m\u001b[33;43m'\u001b[39;49m\u001b[33;43mbayes\u001b[39;49m\u001b[33;43m'\u001b[39;49m\u001b[43m,\u001b[49m\n\u001b[32m     12\u001b[39m \u001b[43m    \u001b[49m\u001b[43mmetric\u001b[49m\u001b[43m=\u001b[49m\u001b[33;43m'\u001b[39;49m\u001b[33;43mSharpe\u001b[39;49m\u001b[33;43m'\u001b[39;49m\u001b[43m,\u001b[49m\n\u001b[32m     13\u001b[39m \u001b[43m    \u001b[49m\u001b[43mn_trials\u001b[49m\u001b[43m=\u001b[49m\u001b[32;43m50\u001b[39;49m\u001b[43m,\u001b[49m\u001b[43m       \u001b[49m\u001b[38;5;66;43;03m# passed into optimize_bayesian\u001b[39;49;00m\n\u001b[32m     14\u001b[39m \u001b[43m    \u001b[49m\u001b[43mseed\u001b[49m\u001b[43m=\u001b[49m\u001b[32;43m42\u001b[39;49m\n\u001b[32m     15\u001b[39m \u001b[43m)\u001b[49m\n",
      "\u001b[36mFile \u001b[39m\u001b[32mc:\\Users\\breus\\Desktop\\ta\\quant_trading\\trading_environment.py:445\u001b[39m, in \u001b[36mOptimizer.find_best_strategy\u001b[39m\u001b[34m(strategies, data, method, metric, **method_kwargs)\u001b[39m\n\u001b[32m    443\u001b[39m \u001b[38;5;66;03m# 1) optimize\u001b[39;00m\n\u001b[32m    444\u001b[39m \u001b[38;5;28;01mif\u001b[39;00m method == \u001b[33m'\u001b[39m\u001b[33mbayes\u001b[39m\u001b[33m'\u001b[39m:\n\u001b[32m--> \u001b[39m\u001b[32m445\u001b[39m     best_params, _, _ = \u001b[43mopt\u001b[49m\u001b[43m.\u001b[49m\u001b[43moptimize_bayesian\u001b[49m\u001b[43m(\u001b[49m\u001b[43mdata\u001b[49m\u001b[43m,\u001b[49m\u001b[43m \u001b[49m\u001b[43mmetric\u001b[49m\u001b[43m=\u001b[49m\u001b[43mmetric\u001b[49m\u001b[43m,\u001b[49m\u001b[43m \u001b[49m\u001b[43m*\u001b[49m\u001b[43m*\u001b[49m\u001b[43mmethod_kwargs\u001b[49m\u001b[43m)\u001b[49m\n\u001b[32m    446\u001b[39m \u001b[38;5;28;01melif\u001b[39;00m method == \u001b[33m'\u001b[39m\u001b[33mde\u001b[39m\u001b[33m'\u001b[39m:\n\u001b[32m    447\u001b[39m     best_params, _, _ = opt.optimize_de   (data, metric=metric, **method_kwargs)\n",
      "\u001b[36mFile \u001b[39m\u001b[32mc:\\Users\\breus\\Desktop\\ta\\quant_trading\\trading_environment.py:314\u001b[39m, in \u001b[36mOptimizer.optimize_bayesian\u001b[39m\u001b[34m(self, data, metric, n_trials, seed)\u001b[39m\n\u001b[32m    309\u001b[39m study = optuna.create_study(\n\u001b[32m    310\u001b[39m     direction=\u001b[33m'\u001b[39m\u001b[33mmaximize\u001b[39m\u001b[33m'\u001b[39m \u001b[38;5;28;01mif\u001b[39;00m metric.lower()==\u001b[33m'\u001b[39m\u001b[33msharpe\u001b[39m\u001b[33m'\u001b[39m \u001b[38;5;28;01melse\u001b[39;00m \u001b[33m'\u001b[39m\u001b[33mminimize\u001b[39m\u001b[33m'\u001b[39m,\n\u001b[32m    311\u001b[39m     sampler=optuna.samplers.TPESampler(seed=seed),\n\u001b[32m    312\u001b[39m )\n\u001b[32m    313\u001b[39m study.optimize(objective, n_trials=n_trials)\n\u001b[32m--> \u001b[39m\u001b[32m314\u001b[39m best = \u001b[43mstudy\u001b[49m\u001b[43m.\u001b[49m\u001b[43mbest_trial\u001b[49m\n\u001b[32m    315\u001b[39m \u001b[38;5;28;01mreturn\u001b[39;00m best.params, best.value, study\n",
      "\u001b[36mFile \u001b[39m\u001b[32mc:\\Users\\breus\\Desktop\\ta\\quant_trading\\venv\\Lib\\site-packages\\optuna\\study\\study.py:155\u001b[39m, in \u001b[36mStudy.best_trial\u001b[39m\u001b[34m(self)\u001b[39m\n\u001b[32m    138\u001b[39m \u001b[38;5;129m@property\u001b[39m\n\u001b[32m    139\u001b[39m \u001b[38;5;28;01mdef\u001b[39;00m\u001b[38;5;250m \u001b[39m\u001b[34mbest_trial\u001b[39m(\u001b[38;5;28mself\u001b[39m) -> FrozenTrial:\n\u001b[32m    140\u001b[39m \u001b[38;5;250m    \u001b[39m\u001b[33;03m\"\"\"Return the best trial in the study.\u001b[39;00m\n\u001b[32m    141\u001b[39m \n\u001b[32m    142\u001b[39m \u001b[33;03m    .. note::\u001b[39;00m\n\u001b[32m   (...)\u001b[39m\u001b[32m    153\u001b[39m \n\u001b[32m    154\u001b[39m \u001b[33;03m    \"\"\"\u001b[39;00m\n\u001b[32m--> \u001b[39m\u001b[32m155\u001b[39m     \u001b[38;5;28;01mreturn\u001b[39;00m \u001b[38;5;28;43mself\u001b[39;49m\u001b[43m.\u001b[49m\u001b[43m_get_best_trial\u001b[49m\u001b[43m(\u001b[49m\u001b[43mdeepcopy\u001b[49m\u001b[43m=\u001b[49m\u001b[38;5;28;43;01mTrue\u001b[39;49;00m\u001b[43m)\u001b[49m\n",
      "\u001b[36mFile \u001b[39m\u001b[32mc:\\Users\\breus\\Desktop\\ta\\quant_trading\\venv\\Lib\\site-packages\\optuna\\study\\study.py:307\u001b[39m, in \u001b[36mStudy._get_best_trial\u001b[39m\u001b[34m(self, deepcopy)\u001b[39m\n\u001b[32m    301\u001b[39m \u001b[38;5;28;01mif\u001b[39;00m \u001b[38;5;28mself\u001b[39m._is_multi_objective():\n\u001b[32m    302\u001b[39m     \u001b[38;5;28;01mraise\u001b[39;00m \u001b[38;5;167;01mRuntimeError\u001b[39;00m(\n\u001b[32m    303\u001b[39m         \u001b[33m\"\u001b[39m\u001b[33mA single best trial cannot be retrieved from a multi-objective study. Consider \u001b[39m\u001b[33m\"\u001b[39m\n\u001b[32m    304\u001b[39m         \u001b[33m\"\u001b[39m\u001b[33musing Study.best_trials to retrieve a list containing the best trials.\u001b[39m\u001b[33m\"\u001b[39m\n\u001b[32m    305\u001b[39m     )\n\u001b[32m--> \u001b[39m\u001b[32m307\u001b[39m best_trial = \u001b[38;5;28;43mself\u001b[39;49m\u001b[43m.\u001b[49m\u001b[43m_storage\u001b[49m\u001b[43m.\u001b[49m\u001b[43mget_best_trial\u001b[49m\u001b[43m(\u001b[49m\u001b[38;5;28;43mself\u001b[39;49m\u001b[43m.\u001b[49m\u001b[43m_study_id\u001b[49m\u001b[43m)\u001b[49m\n\u001b[32m    309\u001b[39m \u001b[38;5;66;03m# If the trial with the best value is infeasible, select the best trial from all feasible\u001b[39;00m\n\u001b[32m    310\u001b[39m \u001b[38;5;66;03m# trials. Note that the behavior is undefined when constrained optimization without the\u001b[39;00m\n\u001b[32m    311\u001b[39m \u001b[38;5;66;03m# violation value in the best-valued trial.\u001b[39;00m\n\u001b[32m    312\u001b[39m constraints = best_trial.system_attrs.get(_CONSTRAINTS_KEY)\n",
      "\u001b[36mFile \u001b[39m\u001b[32mc:\\Users\\breus\\Desktop\\ta\\quant_trading\\venv\\Lib\\site-packages\\optuna\\storages\\_in_memory.py:252\u001b[39m, in \u001b[36mInMemoryStorage.get_best_trial\u001b[39m\u001b[34m(self, study_id)\u001b[39m\n\u001b[32m    249\u001b[39m best_trial_id = \u001b[38;5;28mself\u001b[39m._studies[study_id].best_trial_id\n\u001b[32m    251\u001b[39m \u001b[38;5;28;01mif\u001b[39;00m best_trial_id \u001b[38;5;129;01mis\u001b[39;00m \u001b[38;5;28;01mNone\u001b[39;00m:\n\u001b[32m--> \u001b[39m\u001b[32m252\u001b[39m     \u001b[38;5;28;01mraise\u001b[39;00m \u001b[38;5;167;01mValueError\u001b[39;00m(\u001b[33m\"\u001b[39m\u001b[33mNo trials are completed yet.\u001b[39m\u001b[33m\"\u001b[39m)\n\u001b[32m    253\u001b[39m \u001b[38;5;28;01melif\u001b[39;00m \u001b[38;5;28mlen\u001b[39m(\u001b[38;5;28mself\u001b[39m._studies[study_id].directions) > \u001b[32m1\u001b[39m:\n\u001b[32m    254\u001b[39m     \u001b[38;5;28;01mraise\u001b[39;00m \u001b[38;5;167;01mRuntimeError\u001b[39;00m(\n\u001b[32m    255\u001b[39m         \u001b[33m\"\u001b[39m\u001b[33mBest trial can be obtained only for single-objective optimization.\u001b[39m\u001b[33m\"\u001b[39m\n\u001b[32m    256\u001b[39m     )\n",
      "\u001b[31mValueError\u001b[39m: No trials are completed yet."
     ]
    }
   ],
   "source": [
    "strategies = [\n",
    "    MovingAverageCrossStrategy, DcaStrategy, DonchianBreakoutStrategy,\n",
    "    ADXTrendStrategy, ROCStrategy, MACDStrategy, BollingerMeanRevStrategy,\n",
    "    RSIStrategy, PairTradingStrategy, VWAPStrategy\n",
    "]\n",
    "\n",
    "# run Bayesian optimisation on each and pick the best overall by Sharpe:\n",
    "best_strategy, best_params, summary_df = Optimizer.find_best_strategy(\n",
    "    strategies,\n",
    "    data,\n",
    "    method='bayes',\n",
    "    metric='Sharpe',\n",
    "    n_trials=50,       # passed into optimize_bayesian\n",
    "    seed=42\n",
    ")\n",
    "\n"
   ]
  },
  {
   "cell_type": "code",
   "execution_count": null,
   "id": "ff775fb2",
   "metadata": {},
   "outputs": [],
   "source": [
    "print(\"Best strategy:\", best_strategy)\n",
    "print(\"Params:       \", best_params)"
   ]
  },
  {
   "cell_type": "code",
   "execution_count": null,
   "id": "52b51f11",
   "metadata": {},
   "outputs": [],
   "source": [
    "summary_df"
   ]
  },
  {
   "cell_type": "markdown",
   "id": "8e179ed2",
   "metadata": {},
   "source": [
    "# FIN"
   ]
  }
 ],
 "metadata": {
  "kernelspec": {
   "display_name": "venv",
   "language": "python",
   "name": "python3"
  },
  "language_info": {
   "codemirror_mode": {
    "name": "ipython",
    "version": 3
   },
   "file_extension": ".py",
   "mimetype": "text/x-python",
   "name": "python",
   "nbconvert_exporter": "python",
   "pygments_lexer": "ipython3",
   "version": "3.11.4"
  }
 },
 "nbformat": 4,
 "nbformat_minor": 5
}
